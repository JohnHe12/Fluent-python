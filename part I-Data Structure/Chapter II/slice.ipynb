{
 "cells": [
  {
   "cell_type": "code",
   "execution_count": 2,
   "metadata": {},
   "outputs": [
    {
     "name": "stdout",
     "output_type": "stream",
     "text": [
      "  1           0 LOAD_NAME                0 (s)\n",
      "              2 LOAD_NAME                1 (a)\n",
      "              4 DUP_TOP_TWO\n",
      "              6 BINARY_SUBSCR\n",
      "              8 LOAD_NAME                2 (b)\n",
      "             10 INPLACE_ADD\n",
      "             12 ROT_THREE\n",
      "             14 STORE_SUBSCR\n",
      "             16 LOAD_CONST               0 (None)\n",
      "             18 RETURN_VALUE\n"
     ]
    }
   ],
   "source": [
    "from dis import dis\n",
    "\n",
    "\n",
    "dis('s[a] += b')"
   ]
  },
  {
   "cell_type": "markdown",
   "metadata": {},
   "source": [
    "```python\n",
    "list.sort Versus the sorted Built-In\n",
    "\n",
    "list.sort : does not create a new list\n",
    "\n",
    "the built-in function sorted creates a new list and returns it\n",
    "```"
   ]
  },
  {
   "cell_type": "code",
   "execution_count": 5,
   "metadata": {},
   "outputs": [],
   "source": [
    "symbols = \"$%?+=\"\n",
    "l = [ord(s) for s in symbols]\n",
    "\n",
    "l2 = list(filter(lambda c : c>40,map(ord,symbols)))"
   ]
  },
  {
   "cell_type": "code",
   "execution_count": 11,
   "metadata": {},
   "outputs": [
    {
     "data": {
      "text/plain": [
       "['raspberry', 'banana', 'grape', 'apple']"
      ]
     },
     "execution_count": 11,
     "metadata": {},
     "output_type": "execute_result"
    }
   ],
   "source": [
    "fruits = ['grape', 'raspberry', 'apple', 'banana']\n",
    "sorted(fruits,key=len,reverse=True)"
   ]
  },
  {
   "cell_type": "code",
   "execution_count": 12,
   "metadata": {},
   "outputs": [],
   "source": [
    "fruits.sort()"
   ]
  },
  {
   "cell_type": "code",
   "execution_count": 13,
   "metadata": {},
   "outputs": [],
   "source": [
    "def command_line(messages):\n",
    "\n",
    "\n",
    "    match messages:\n",
    "\n",
    "        case [\"result\",_,_,*rest]:\n",
    "\n",
    "            return \"result\""
   ]
  },
  {
   "cell_type": "code",
   "execution_count": 14,
   "metadata": {},
   "outputs": [
    {
     "ename": "ValueError",
     "evalue": "too many values to unpack (expected 1)",
     "output_type": "error",
     "traceback": [
      "\u001b[0;31m---------------------------------------------------------------------------\u001b[0m",
      "\u001b[0;31mValueError\u001b[0m                                Traceback (most recent call last)",
      "\u001b[1;32m/Users/macbookair/Desktop/编程/python_fluent/part I-Data Structure/Chapter II/slice.ipynb Cell 7\u001b[0m in \u001b[0;36m<cell line: 2>\u001b[0;34m()\u001b[0m\n\u001b[1;32m      <a href='vscode-notebook-cell:/Users/macbookair/Desktop/%E7%BC%96%E7%A8%8B/python_fluent/part%20I-Data%20Structure/Chapter%20II/slice.ipynb#X10sZmlsZQ%3D%3D?line=0'>1</a>\u001b[0m messages \u001b[39m=\u001b[39m [\u001b[39m\"\u001b[39m\u001b[39mresult\u001b[39m\u001b[39m\"\u001b[39m,\u001b[39m1\u001b[39m,\u001b[39m2\u001b[39m,\u001b[39mrange\u001b[39m(\u001b[39m4\u001b[39m)]\n\u001b[0;32m----> <a href='vscode-notebook-cell:/Users/macbookair/Desktop/%E7%BC%96%E7%A8%8B/python_fluent/part%20I-Data%20Structure/Chapter%20II/slice.ipynb#X10sZmlsZQ%3D%3D?line=1'>2</a>\u001b[0m [result]\u001b[39m=\u001b[39mcommand_line(messages)\n",
      "\u001b[0;31mValueError\u001b[0m: too many values to unpack (expected 1)"
     ]
    }
   ],
   "source": [
    "messages = [\"result\",1,2,range(4)]\n",
    "[result]=command_line(messages)\n",
    "print(result)"
   ]
  }
 ],
 "metadata": {
  "kernelspec": {
   "display_name": "Python 3.10.4 ('fluent_python')",
   "language": "python",
   "name": "python3"
  },
  "language_info": {
   "codemirror_mode": {
    "name": "ipython",
    "version": 3
   },
   "file_extension": ".py",
   "mimetype": "text/x-python",
   "name": "python",
   "nbconvert_exporter": "python",
   "pygments_lexer": "ipython3",
   "version": "3.10.4"
  },
  "orig_nbformat": 4,
  "vscode": {
   "interpreter": {
    "hash": "5b1b1f33800668773057fda0c7ea16549eeda7762de905e4ef1c8737b46900d8"
   }
  }
 },
 "nbformat": 4,
 "nbformat_minor": 2
}
