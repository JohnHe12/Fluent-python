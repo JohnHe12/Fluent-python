{
 "cells": [
  {
   "cell_type": "code",
   "execution_count": 1,
   "metadata": {},
   "outputs": [],
   "source": [
    "####################   dict Comprehensions   ###################\n",
    "\n",
    "### Examples of dict comprehensions\n",
    "dial_codes = [\n",
    " (880, 'Bangladesh'),\n",
    " (55, 'Brazil'),\n",
    " (86, 'China'),\n",
    " (91, 'India'),\n",
    " (62, 'Indonesia'),\n",
    " (81, 'Japan'),\n",
    " (234, 'Nigeria'),\n",
    " (92, 'Pakistan'), \n",
    " (7, 'Russia'),\n",
    " (1, 'United States'), \n",
    " ]\n",
    "\n",
    "contry_dial = {contry : code for code, contry in dial_codes}"
   ]
  },
  {
   "cell_type": "code",
   "execution_count": 2,
   "metadata": {},
   "outputs": [
    {
     "data": {
      "text/plain": [
       "{55: 'BRAZIL', 62: 'INDONESIA', 7: 'RUSSIA', 1: 'UNITED STATES'}"
      ]
     },
     "execution_count": 2,
     "metadata": {},
     "output_type": "execute_result"
    }
   ],
   "source": [
    "{code : contry.upper() \n",
    "\n",
    "    for contry , code in sorted(contry_dial.items()) if code <70}"
   ]
  },
  {
   "cell_type": "code",
   "execution_count": 4,
   "metadata": {},
   "outputs": [
    {
     "data": {
      "text/plain": [
       "dict_items([('Bangladesh', 880), ('Brazil', 55), ('China', 86), ('India', 91), ('Indonesia', 62), ('Japan', 81), ('Nigeria', 234), ('Pakistan', 92), ('Russia', 7), ('United States', 1)])"
      ]
     },
     "execution_count": 4,
     "metadata": {},
     "output_type": "execute_result"
    }
   ],
   "source": [
    "contry_dial.items()"
   ]
  },
  {
   "cell_type": "markdown",
   "metadata": {},
   "source": [
    "################### Unpacking Mappings ###################\n",
    "\n",
    "enhanced the support of mapping unpackings in two ways, since Python 3.5.\n",
    "\n",
    "First, we can apply ** to more than one argument in a function call. \n",
    "\n",
    "This works when keys are all strings and unique across all arguments \n",
    "\n",
    "(because duplicate keyword arguments are forbidden):"
   ]
  },
  {
   "cell_type": "code",
   "execution_count": 5,
   "metadata": {},
   "outputs": [
    {
     "data": {
      "text/plain": [
       "{'x': 1, 'y': 2, 'z': 3}"
      ]
     },
     "execution_count": 5,
     "metadata": {},
     "output_type": "execute_result"
    }
   ],
   "source": [
    "def dump(**kwargs):\n",
    "    return kwargs\n",
    "\n",
    "dump(**{'x': 1}, y=2, **{'z': 3})"
   ]
  },
  {
   "cell_type": "markdown",
   "metadata": {},
   "source": [
    "Second, ** can be used inside a dict literal—also multiple times:\n",
    "\n",
    "In this case, duplicate keys are allowed. \n",
    "\n",
    "Later occurrences overwrite previous ones— see the value mapped to x in the example."
   ]
  },
  {
   "cell_type": "code",
   "execution_count": 6,
   "metadata": {},
   "outputs": [
    {
     "data": {
      "text/plain": [
       "{'a': 0, 'x': 4, 'y': 2, 'z': 3}"
      ]
     },
     "execution_count": 6,
     "metadata": {},
     "output_type": "execute_result"
    }
   ],
   "source": [
    "{'a': 0, **{'x': 1}, 'y': 2, **{'z': 3, 'x': 4}}"
   ]
  },
  {
   "cell_type": "markdown",
   "metadata": {},
   "source": [
    "Python 3.9 supports using | and |= to merge mappings.\n",
    "\n",
    "The | operator creates a new mapping:"
   ]
  },
  {
   "cell_type": "code",
   "execution_count": 8,
   "metadata": {},
   "outputs": [
    {
     "data": {
      "text/plain": [
       "{'a': 3, 'b': 4, 'c': 6}"
      ]
     },
     "execution_count": 8,
     "metadata": {},
     "output_type": "execute_result"
    }
   ],
   "source": [
    "d1 = {'a': 1, 'b': 3}\n",
    "d2 = {'a': 3, 'b': 4, 'c': 6}\n",
    "d1|d2\n",
    "\n",
    "\n",
    "### Usually the type of the new mapping will be the same as the type of the left operand \n",
    "# —d1 in the example—\n",
    "# but it can be the type of the second operand if user-defined types are involved,"
   ]
  },
  {
   "cell_type": "markdown",
   "metadata": {},
   "source": [
    "To update an existing mapping in place, use |=. \n",
    "\n",
    "Continuing from the previous exam‐ ple, d1 was not changed,"
   ]
  },
  {
   "cell_type": "code",
   "execution_count": 9,
   "metadata": {},
   "outputs": [
    {
     "name": "stdout",
     "output_type": "stream",
     "text": [
      "{'a': 1, 'b': 3}\n",
      "{'a': 3, 'b': 4, 'c': 6}\n"
     ]
    }
   ],
   "source": [
    "print(d1)\n",
    "d1 |= d2\n",
    "print(d1)\n",
    "\n",
    "### d1 has been updated, but it's for python 3.9 or newer"
   ]
  },
  {
   "cell_type": "markdown",
   "metadata": {},
   "source": [
    "####################    Pattern Matching with Mappings    ###################"
   ]
  },
  {
   "cell_type": "markdown",
   "metadata": {},
   "source": [
    "Example 3-2. creator.py: get_creators() extracts names of creators from media records"
   ]
  },
  {
   "cell_type": "code",
   "execution_count": 3,
   "metadata": {},
   "outputs": [],
   "source": [
    "def get_creators(record: dict) -> list: \n",
    "    match record:\n",
    "        case {'type': 'book', 'api': 2, 'authors': [*names]}: \n",
    "            return names\n",
    "        case {'type': 'book', 'api': 1, 'author': name}: \n",
    "            return [name]\n",
    "        case {'type': 'book'}:\n",
    "            raise ValueError(f\"Invalid 'book' record: {record!r}\")\n",
    "        case {'type': 'movie', 'director': name}: \n",
    "            return [name]\n",
    "        case _:\n",
    "            raise ValueError(f'Invalid record: {record!r}')"
   ]
  },
  {
   "cell_type": "markdown",
   "metadata": {},
   "source": [
    "shows some useful practices for handling semi-structured data such as JSON records:"
   ]
  },
  {
   "cell_type": "code",
   "execution_count": 1,
   "metadata": {},
   "outputs": [],
   "source": [
    "b1 = dict(api=1, author='Douglas Hofstadter',\n",
    " type='book', title='Gödel, Escher, Bach')"
   ]
  },
  {
   "cell_type": "code",
   "execution_count": 4,
   "metadata": {},
   "outputs": [
    {
     "data": {
      "text/plain": [
       "['Douglas Hofstadter']"
      ]
     },
     "execution_count": 4,
     "metadata": {},
     "output_type": "execute_result"
    }
   ],
   "source": [
    "get_creators(b1)"
   ]
  },
  {
   "cell_type": "code",
   "execution_count": 6,
   "metadata": {},
   "outputs": [],
   "source": [
    "from collections import OrderedDict"
   ]
  },
  {
   "cell_type": "code",
   "execution_count": 7,
   "metadata": {},
   "outputs": [],
   "source": [
    "b2 = OrderedDict(api=2, type='book',\n",
    " title='Python in a Nutshell',\n",
    " authors='Martelli Ravenscroft Holden'.split())"
   ]
  },
  {
   "cell_type": "code",
   "execution_count": 8,
   "metadata": {},
   "outputs": [
    {
     "data": {
      "text/plain": [
       "['Martelli', 'Ravenscroft', 'Holden']"
      ]
     },
     "execution_count": 8,
     "metadata": {},
     "output_type": "execute_result"
    }
   ],
   "source": [
    "get_creators(b2)"
   ]
  },
  {
   "cell_type": "code",
   "execution_count": 9,
   "metadata": {},
   "outputs": [
    {
     "ename": "ValueError",
     "evalue": "Invalid 'book' record: {'type': 'book', 'pages': 770}",
     "output_type": "error",
     "traceback": [
      "\u001b[0;31m---------------------------------------------------------------------------\u001b[0m",
      "\u001b[0;31mValueError\u001b[0m                                Traceback (most recent call last)",
      "\u001b[1;32m/Users/macbookair/Desktop/编程/python_fluent/part I-Data Structure/Chapter III/build_dict.ipynb Cell 21\u001b[0m in \u001b[0;36m<cell line: 1>\u001b[0;34m()\u001b[0m\n\u001b[0;32m----> <a href='vscode-notebook-cell:/Users/macbookair/Desktop/%E7%BC%96%E7%A8%8B/python_fluent/part%20I-Data%20Structure/Chapter%20III/build_dict.ipynb#X26sZmlsZQ%3D%3D?line=0'>1</a>\u001b[0m get_creators({\u001b[39m'\u001b[39;49m\u001b[39mtype\u001b[39;49m\u001b[39m'\u001b[39;49m: \u001b[39m'\u001b[39;49m\u001b[39mbook\u001b[39;49m\u001b[39m'\u001b[39;49m, \u001b[39m'\u001b[39;49m\u001b[39mpages\u001b[39;49m\u001b[39m'\u001b[39;49m: \u001b[39m770\u001b[39;49m})\n",
      "\u001b[1;32m/Users/macbookair/Desktop/编程/python_fluent/part I-Data Structure/Chapter III/build_dict.ipynb Cell 21\u001b[0m in \u001b[0;36mget_creators\u001b[0;34m(record)\u001b[0m\n\u001b[1;32m      <a href='vscode-notebook-cell:/Users/macbookair/Desktop/%E7%BC%96%E7%A8%8B/python_fluent/part%20I-Data%20Structure/Chapter%20III/build_dict.ipynb#X26sZmlsZQ%3D%3D?line=0'>1</a>\u001b[0m \u001b[39mdef\u001b[39;00m \u001b[39mget_creators\u001b[39m(record: \u001b[39mdict\u001b[39m) \u001b[39m-\u001b[39m\u001b[39m>\u001b[39m \u001b[39mlist\u001b[39m: \n\u001b[1;32m      <a href='vscode-notebook-cell:/Users/macbookair/Desktop/%E7%BC%96%E7%A8%8B/python_fluent/part%20I-Data%20Structure/Chapter%20III/build_dict.ipynb#X26sZmlsZQ%3D%3D?line=1'>2</a>\u001b[0m     \u001b[39mmatch\u001b[39;00m record:\n\u001b[1;32m      <a href='vscode-notebook-cell:/Users/macbookair/Desktop/%E7%BC%96%E7%A8%8B/python_fluent/part%20I-Data%20Structure/Chapter%20III/build_dict.ipynb#X26sZmlsZQ%3D%3D?line=2'>3</a>\u001b[0m         \u001b[39mcase\u001b[39;00m {\u001b[39m'\u001b[39m\u001b[39mtype\u001b[39m\u001b[39m'\u001b[39m: \u001b[39m'\u001b[39m\u001b[39mbook\u001b[39m\u001b[39m'\u001b[39m, \u001b[39m'\u001b[39m\u001b[39mapi\u001b[39m\u001b[39m'\u001b[39m: \u001b[39m2\u001b[39m, \u001b[39m'\u001b[39m\u001b[39mauthors\u001b[39m\u001b[39m'\u001b[39m: [\u001b[39m*\u001b[39mnames]}: \n\u001b[1;32m      <a href='vscode-notebook-cell:/Users/macbookair/Desktop/%E7%BC%96%E7%A8%8B/python_fluent/part%20I-Data%20Structure/Chapter%20III/build_dict.ipynb#X26sZmlsZQ%3D%3D?line=3'>4</a>\u001b[0m             \u001b[39mreturn\u001b[39;00m names\n\u001b[1;32m      <a href='vscode-notebook-cell:/Users/macbookair/Desktop/%E7%BC%96%E7%A8%8B/python_fluent/part%20I-Data%20Structure/Chapter%20III/build_dict.ipynb#X26sZmlsZQ%3D%3D?line=4'>5</a>\u001b[0m         \u001b[39mcase\u001b[39;00m {\u001b[39m'\u001b[39m\u001b[39mtype\u001b[39m\u001b[39m'\u001b[39m: \u001b[39m'\u001b[39m\u001b[39mbook\u001b[39m\u001b[39m'\u001b[39m, \u001b[39m'\u001b[39m\u001b[39mapi\u001b[39m\u001b[39m'\u001b[39m: \u001b[39m1\u001b[39m, \u001b[39m'\u001b[39m\u001b[39mauthor\u001b[39m\u001b[39m'\u001b[39m: name}: \n\u001b[1;32m      <a href='vscode-notebook-cell:/Users/macbookair/Desktop/%E7%BC%96%E7%A8%8B/python_fluent/part%20I-Data%20Structure/Chapter%20III/build_dict.ipynb#X26sZmlsZQ%3D%3D?line=5'>6</a>\u001b[0m             \u001b[39mreturn\u001b[39;00m [name]\n\u001b[1;32m      <a href='vscode-notebook-cell:/Users/macbookair/Desktop/%E7%BC%96%E7%A8%8B/python_fluent/part%20I-Data%20Structure/Chapter%20III/build_dict.ipynb#X26sZmlsZQ%3D%3D?line=6'>7</a>\u001b[0m         \u001b[39mcase\u001b[39;00m {\u001b[39m'\u001b[39m\u001b[39mtype\u001b[39m\u001b[39m'\u001b[39m: \u001b[39m'\u001b[39m\u001b[39mbook\u001b[39m\u001b[39m'\u001b[39m}:\n\u001b[0;32m----> <a href='vscode-notebook-cell:/Users/macbookair/Desktop/%E7%BC%96%E7%A8%8B/python_fluent/part%20I-Data%20Structure/Chapter%20III/build_dict.ipynb#X26sZmlsZQ%3D%3D?line=7'>8</a>\u001b[0m             \u001b[39mraise\u001b[39;00m \u001b[39mValueError\u001b[39;00m(\u001b[39mf\u001b[39m\u001b[39m\"\u001b[39m\u001b[39mInvalid \u001b[39m\u001b[39m'\u001b[39m\u001b[39mbook\u001b[39m\u001b[39m'\u001b[39m\u001b[39m record: \u001b[39m\u001b[39m{\u001b[39;00mrecord\u001b[39m!r}\u001b[39;00m\u001b[39m\"\u001b[39m)\n\u001b[1;32m      <a href='vscode-notebook-cell:/Users/macbookair/Desktop/%E7%BC%96%E7%A8%8B/python_fluent/part%20I-Data%20Structure/Chapter%20III/build_dict.ipynb#X26sZmlsZQ%3D%3D?line=8'>9</a>\u001b[0m         \u001b[39mcase\u001b[39;00m {\u001b[39m'\u001b[39m\u001b[39mtype\u001b[39m\u001b[39m'\u001b[39m: \u001b[39m'\u001b[39m\u001b[39mmovie\u001b[39m\u001b[39m'\u001b[39m, \u001b[39m'\u001b[39m\u001b[39mdirector\u001b[39m\u001b[39m'\u001b[39m: name}: \n\u001b[1;32m     <a href='vscode-notebook-cell:/Users/macbookair/Desktop/%E7%BC%96%E7%A8%8B/python_fluent/part%20I-Data%20Structure/Chapter%20III/build_dict.ipynb#X26sZmlsZQ%3D%3D?line=9'>10</a>\u001b[0m             \u001b[39mreturn\u001b[39;00m [name]\n\u001b[1;32m     <a href='vscode-notebook-cell:/Users/macbookair/Desktop/%E7%BC%96%E7%A8%8B/python_fluent/part%20I-Data%20Structure/Chapter%20III/build_dict.ipynb#X26sZmlsZQ%3D%3D?line=10'>11</a>\u001b[0m         \u001b[39mcase\u001b[39;00m \u001b[39m_\u001b[39;00m:\n\u001b[1;32m     <a href='vscode-notebook-cell:/Users/macbookair/Desktop/%E7%BC%96%E7%A8%8B/python_fluent/part%20I-Data%20Structure/Chapter%20III/build_dict.ipynb#X26sZmlsZQ%3D%3D?line=11'>12</a>\u001b[0m             \u001b[39mraise\u001b[39;00m \u001b[39mValueError\u001b[39;00m(\u001b[39mf\u001b[39m\u001b[39m'\u001b[39m\u001b[39mInvalid record: \u001b[39m\u001b[39m{\u001b[39;00mrecord\u001b[39m!r}\u001b[39;00m\u001b[39m'\u001b[39m)\n",
      "\u001b[0;31mValueError\u001b[0m: Invalid 'book' record: {'type': 'book', 'pages': 770}"
     ]
    }
   ],
   "source": [
    "get_creators({'type': 'book', 'pages': 770})"
   ]
  },
  {
   "cell_type": "code",
   "execution_count": 10,
   "metadata": {},
   "outputs": [
    {
     "name": "stdout",
     "output_type": "stream",
     "text": [
      "0\n"
     ]
    }
   ],
   "source": [
    "a = ['a','b',(1,2)]\n",
    "\n",
    "def command_line(message):\n",
    "\n",
    "    match message:\n",
    "\n",
    "        case ['a','b']:\n",
    "\n",
    "            return 1\n",
    "        \n",
    "        case _ :\n",
    "\n",
    "            return 0\n",
    "\n",
    "print(command_line(a))"
   ]
  },
  {
   "cell_type": "markdown",
   "metadata": {},
   "source": [
    "\n",
    "##################   What Is Hashable   #############\n",
    "\n",
    "An object is hashable if it has a hash code which never changes during its lifetime (it needs a __hash__() method), and can be compared to other objects (it needs an __eq__() method). Hashable objects which compare equal must have the same hash code.2"
   ]
  },
  {
   "cell_type": "markdown",
   "metadata": {},
   "source": [
    "A tuple is hashable only if all its items are hashable. See tuples tt, tl, and tf:"
   ]
  },
  {
   "cell_type": "code",
   "execution_count": 11,
   "metadata": {},
   "outputs": [
    {
     "data": {
      "text/plain": [
       "-3907003130834322577"
      ]
     },
     "execution_count": 11,
     "metadata": {},
     "output_type": "execute_result"
    }
   ],
   "source": [
    "tt = (1, 2, (30, 40))\n",
    "hash(tt)"
   ]
  },
  {
   "cell_type": "code",
   "execution_count": 12,
   "metadata": {},
   "outputs": [
    {
     "ename": "TypeError",
     "evalue": "unhashable type: 'list'",
     "output_type": "error",
     "traceback": [
      "\u001b[0;31m---------------------------------------------------------------------------\u001b[0m",
      "\u001b[0;31mTypeError\u001b[0m                                 Traceback (most recent call last)",
      "\u001b[1;32m/Users/macbookair/Desktop/编程/python_fluent/part I-Data Structure/Chapter III/build_dict.ipynb Cell 26\u001b[0m in \u001b[0;36m<cell line: 2>\u001b[0;34m()\u001b[0m\n\u001b[1;32m      <a href='vscode-notebook-cell:/Users/macbookair/Desktop/%E7%BC%96%E7%A8%8B/python_fluent/part%20I-Data%20Structure/Chapter%20III/build_dict.ipynb#X34sZmlsZQ%3D%3D?line=0'>1</a>\u001b[0m tl \u001b[39m=\u001b[39m (\u001b[39m1\u001b[39m, \u001b[39m2\u001b[39m, [\u001b[39m30\u001b[39m, \u001b[39m40\u001b[39m])\n\u001b[0;32m----> <a href='vscode-notebook-cell:/Users/macbookair/Desktop/%E7%BC%96%E7%A8%8B/python_fluent/part%20I-Data%20Structure/Chapter%20III/build_dict.ipynb#X34sZmlsZQ%3D%3D?line=1'>2</a>\u001b[0m \u001b[39mhash\u001b[39;49m(tl)\n",
      "\u001b[0;31mTypeError\u001b[0m: unhashable type: 'list'"
     ]
    }
   ],
   "source": [
    "tl = (1, 2, [30, 40])\n",
    "hash(tl)"
   ]
  },
  {
   "cell_type": "code",
   "execution_count": 13,
   "metadata": {},
   "outputs": [
    {
     "data": {
      "text/plain": [
       "5149391500123939311"
      ]
     },
     "execution_count": 13,
     "metadata": {},
     "output_type": "execute_result"
    }
   ],
   "source": [
    "tf = (1, 2, frozenset([30, 40]))\n",
    "hash(tf)"
   ]
  },
  {
   "cell_type": "markdown",
   "metadata": {},
   "source": [
    "Overview of Common Mapping Methods"
   ]
  },
  {
   "cell_type": "code",
   "execution_count": 14,
   "metadata": {},
   "outputs": [
    {
     "name": "stdout",
     "output_type": "stream",
     "text": [
      "\\n\n"
     ]
    }
   ],
   "source": [
    "print(r\"\\n\")   \n",
    "# add r before sting is tell interpreter that this is raw string \\n is two bytes"
   ]
  },
  {
   "cell_type": "markdown",
   "metadata": {},
   "source": [
    "For example, given a defaultdict created as dd = defaultdict(list), if 'new-key' is not in dd, the expression dd['new-key'] does the following steps:\n",
    "1. Calls list() to create a new list.\n",
    "2. Inserts the list into dd using 'new-key' as key.\n",
    "3. Returns a reference to that list.\n"
   ]
  },
  {
   "cell_type": "code",
   "execution_count": 51,
   "metadata": {},
   "outputs": [
    {
     "name": "stdout",
     "output_type": "stream",
     "text": [
      "abeqcd\n"
     ]
    }
   ],
   "source": [
    "import collections\n",
    "import re\n",
    "import sys\n",
    "\n",
    "WORD_RE = re.compile(r'\\w+',re.A)\n",
    "print(WORD_RE.match('abeqcd)').group())"
   ]
  },
  {
   "cell_type": "code",
   "execution_count": 60,
   "metadata": {},
   "outputs": [
    {
     "name": "stdout",
     "output_type": "stream",
     "text": [
      "yujiehegmail.com\n"
     ]
    }
   ],
   "source": [
    "email = \"yujiehe666@gmail.com\"\n",
    "m = re.search(\"666@\",email)\n",
    "print(email[:m.start()] + email[m.end():])\n",
    "\n"
   ]
  },
  {
   "cell_type": "code",
   "execution_count": 63,
   "metadata": {},
   "outputs": [],
   "source": [
    "class StrKeyDict(dict):\n",
    "\n",
    "    def __missing__(self,key):\n",
    "\n",
    "        if isinstance(key,str):\n",
    "            raise KeyError(key)\n",
    "        \n",
    "        return self[str(key)]\n",
    "\n",
    "    def get(self, key, default=None): \n",
    "        try:\n",
    "            return self[key] \n",
    "        except KeyError:\n",
    "            return default\n",
    "   \n",
    "    def __contains__(self, key):\n",
    "        return key in self.keys() or str(key) in self.keys()\n",
    "    "
   ]
  },
  {
   "cell_type": "code",
   "execution_count": 66,
   "metadata": {},
   "outputs": [
    {
     "data": {
      "text/plain": [
       "'two'"
      ]
     },
     "execution_count": 66,
     "metadata": {},
     "output_type": "execute_result"
    }
   ],
   "source": [
    "d=StrKeyDict([(\"2\",'two'),('4','four')])\n",
    "\n",
    "d[2]"
   ]
  },
  {
   "cell_type": "code",
   "execution_count": 67,
   "metadata": {},
   "outputs": [
    {
     "ename": "KeyError",
     "evalue": "'1'",
     "output_type": "error",
     "traceback": [
      "\u001b[0;31m---------------------------------------------------------------------------\u001b[0m",
      "\u001b[0;31mKeyError\u001b[0m                                  Traceback (most recent call last)",
      "\u001b[1;32m/Users/macbookair/Desktop/编程/python_fluent/part I-Data Structure/Chapter III/build_dict.ipynb Cell 35\u001b[0m in \u001b[0;36m<cell line: 1>\u001b[0;34m()\u001b[0m\n\u001b[0;32m----> <a href='vscode-notebook-cell:/Users/macbookair/Desktop/%E7%BC%96%E7%A8%8B/python_fluent/part%20I-Data%20Structure/Chapter%20III/build_dict.ipynb#X51sZmlsZQ%3D%3D?line=0'>1</a>\u001b[0m d[\u001b[39m1\u001b[39;49m]\n",
      "\u001b[1;32m/Users/macbookair/Desktop/编程/python_fluent/part I-Data Structure/Chapter III/build_dict.ipynb Cell 35\u001b[0m in \u001b[0;36mStrKeyDict.__missing__\u001b[0;34m(self, key)\u001b[0m\n\u001b[1;32m      <a href='vscode-notebook-cell:/Users/macbookair/Desktop/%E7%BC%96%E7%A8%8B/python_fluent/part%20I-Data%20Structure/Chapter%20III/build_dict.ipynb#X51sZmlsZQ%3D%3D?line=4'>5</a>\u001b[0m \u001b[39mif\u001b[39;00m \u001b[39misinstance\u001b[39m(key,\u001b[39mstr\u001b[39m):\n\u001b[1;32m      <a href='vscode-notebook-cell:/Users/macbookair/Desktop/%E7%BC%96%E7%A8%8B/python_fluent/part%20I-Data%20Structure/Chapter%20III/build_dict.ipynb#X51sZmlsZQ%3D%3D?line=5'>6</a>\u001b[0m     \u001b[39mraise\u001b[39;00m \u001b[39mKeyError\u001b[39;00m(key)\n\u001b[0;32m----> <a href='vscode-notebook-cell:/Users/macbookair/Desktop/%E7%BC%96%E7%A8%8B/python_fluent/part%20I-Data%20Structure/Chapter%20III/build_dict.ipynb#X51sZmlsZQ%3D%3D?line=7'>8</a>\u001b[0m \u001b[39mreturn\u001b[39;00m \u001b[39mself\u001b[39;49m[\u001b[39mstr\u001b[39;49m(key)]\n",
      "\u001b[1;32m/Users/macbookair/Desktop/编程/python_fluent/part I-Data Structure/Chapter III/build_dict.ipynb Cell 35\u001b[0m in \u001b[0;36mStrKeyDict.__missing__\u001b[0;34m(self, key)\u001b[0m\n\u001b[1;32m      <a href='vscode-notebook-cell:/Users/macbookair/Desktop/%E7%BC%96%E7%A8%8B/python_fluent/part%20I-Data%20Structure/Chapter%20III/build_dict.ipynb#X51sZmlsZQ%3D%3D?line=2'>3</a>\u001b[0m \u001b[39mdef\u001b[39;00m \u001b[39m__missing__\u001b[39m(\u001b[39mself\u001b[39m,key):\n\u001b[1;32m      <a href='vscode-notebook-cell:/Users/macbookair/Desktop/%E7%BC%96%E7%A8%8B/python_fluent/part%20I-Data%20Structure/Chapter%20III/build_dict.ipynb#X51sZmlsZQ%3D%3D?line=4'>5</a>\u001b[0m     \u001b[39mif\u001b[39;00m \u001b[39misinstance\u001b[39m(key,\u001b[39mstr\u001b[39m):\n\u001b[0;32m----> <a href='vscode-notebook-cell:/Users/macbookair/Desktop/%E7%BC%96%E7%A8%8B/python_fluent/part%20I-Data%20Structure/Chapter%20III/build_dict.ipynb#X51sZmlsZQ%3D%3D?line=5'>6</a>\u001b[0m         \u001b[39mraise\u001b[39;00m \u001b[39mKeyError\u001b[39;00m(key)\n\u001b[1;32m      <a href='vscode-notebook-cell:/Users/macbookair/Desktop/%E7%BC%96%E7%A8%8B/python_fluent/part%20I-Data%20Structure/Chapter%20III/build_dict.ipynb#X51sZmlsZQ%3D%3D?line=7'>8</a>\u001b[0m     \u001b[39mreturn\u001b[39;00m \u001b[39mself\u001b[39m[\u001b[39mstr\u001b[39m(key)]\n",
      "\u001b[0;31mKeyError\u001b[0m: '1'"
     ]
    }
   ],
   "source": [
    "d[1]"
   ]
  },
  {
   "cell_type": "markdown",
   "metadata": {},
   "source": [
    "```python\n",
    "collectiion.OrderedDict vs dict:\n",
    "\n",
    "• The equality operation for OrderedDict checks for matching order.\n",
    "\n",
    "• The popitem() method of OrderedDict has a different signature. It accepts an\n",
    "optional argument to specify which item is popped.\n",
    "\n",
    "• OrderedDict has a move_to_end() method to efficiently reposition an element to an endpoint.\n",
    "\n",
    "• The regular dict was designed to be very good at mapping operations. Tracking insertion order was secondary.\n",
    "\n",
    "• OrderedDict was designed to be good at reordering operations. Space efficiency, iteration speed, and the performance of update operations were secondary.\n",
    "\n",
    "• Algorithmically, OrderedDict can handle frequent reordering operations better than dict. This makes it suitable for tracking recent accesses (for example, in an LRU cache).\n",
    "```"
   ]
  },
  {
   "cell_type": "markdown",
   "metadata": {},
   "source": [
    "collections.ChainMap\n",
    "\n",
    "The ChainMap instance does not copy the input mappings, but holds references to them. Updates or insertions to a ChainMap only affect the first input mapping. Con‐ tinuing from the previous example:\n",
    "\n",
    "https://fpy.li/3-8"
   ]
  },
  {
   "cell_type": "code",
   "execution_count": 69,
   "metadata": {},
   "outputs": [
    {
     "data": {
      "text/plain": [
       "1"
      ]
     },
     "execution_count": 69,
     "metadata": {},
     "output_type": "execute_result"
    }
   ],
   "source": [
    "d1 = dict(a=1, b=3)\n",
    "d2 = dict(a=2, b=4, c=6)\n",
    "from collections import ChainMap\n",
    "chain = ChainMap(d1, d2)\n",
    "chain['a']"
   ]
  },
  {
   "cell_type": "code",
   "execution_count": 70,
   "metadata": {},
   "outputs": [
    {
     "data": {
      "text/plain": [
       "6"
      ]
     },
     "execution_count": 70,
     "metadata": {},
     "output_type": "execute_result"
    }
   ],
   "source": [
    "chain['c']"
   ]
  },
  {
   "cell_type": "code",
   "execution_count": 71,
   "metadata": {},
   "outputs": [
    {
     "data": {
      "text/plain": [
       "{'a': 1, 'b': 3, 'c': -1}"
      ]
     },
     "execution_count": 71,
     "metadata": {},
     "output_type": "execute_result"
    }
   ],
   "source": [
    "chain['c'] = -1\n",
    "d1"
   ]
  },
  {
   "cell_type": "code",
   "execution_count": 72,
   "metadata": {},
   "outputs": [
    {
     "data": {
      "text/plain": [
       "{'a': 2, 'b': 4, 'c': 6}"
      ]
     },
     "execution_count": 72,
     "metadata": {},
     "output_type": "execute_result"
    }
   ],
   "source": [
    "d2"
   ]
  },
  {
   "cell_type": "markdown",
   "metadata": {},
   "source": [
    "collections.Counter\n",
    "\n",
    "https://fpy.li/3-9"
   ]
  },
  {
   "cell_type": "code",
   "execution_count": 76,
   "metadata": {},
   "outputs": [
    {
     "name": "stdout",
     "output_type": "stream",
     "text": [
      "Counter({'a': 5, 'b': 2, 'r': 2, 'c': 1, 'd': 1})\n"
     ]
    }
   ],
   "source": [
    "ct = collections.Counter('abracadabra')\n",
    "print(ct)"
   ]
  },
  {
   "cell_type": "code",
   "execution_count": 77,
   "metadata": {},
   "outputs": [
    {
     "data": {
      "text/plain": [
       "[('a', 5), ('b', 2), ('r', 2)]"
      ]
     },
     "execution_count": 77,
     "metadata": {},
     "output_type": "execute_result"
    }
   ],
   "source": [
    "ct.most_common(3)"
   ]
  },
  {
   "cell_type": "markdown",
   "metadata": {},
   "source": [
    "Subclassing UserDict Instead of dict"
   ]
  },
  {
   "cell_type": "code",
   "execution_count": null,
   "metadata": {},
   "outputs": [],
   "source": [
    "import collections\n",
    "\n",
    "\n",
    "class StrKeyDict(collections.UserDict):\n",
    "\n",
    "    def __missing__(self, key): \n",
    "        \n",
    "        if isinstance(key, str):\n",
    "\n",
    "            raise KeyError(key) \n",
    "\n",
    "        return self[str(key)]\n",
    "    \n",
    "    def __contains__(self, key): \n",
    "        \n",
    "        return str(key) in self.data  ## data is the dict instance\n",
    "    \n",
    "    def __setitem__(self, key, item): \n",
    "        \n",
    "        self.data[str(key)] = item"
   ]
  },
  {
   "cell_type": "markdown",
   "metadata": {},
   "source": [
    "###################    Immutable Mappings    ###############"
   ]
  },
  {
   "cell_type": "markdown",
   "metadata": {},
   "source": [
    "The types module provides a wrapper class called MappingProxyType, which, given a mapping, returns a mappingproxy instance that is a read-only but dynamic proxy for the original mapping. This means that updates to the original mapping can be seen in\n",
    "Immutable Mappings the mappingproxy, but changes cannot be made through it."
   ]
  },
  {
   "cell_type": "code",
   "execution_count": 78,
   "metadata": {},
   "outputs": [],
   "source": [
    "from types import MappingProxyType\n",
    "\n",
    "d = {1 : 'A'}\n",
    "\n",
    "d_proxy = MappingProxyType(d)"
   ]
  },
  {
   "cell_type": "code",
   "execution_count": 79,
   "metadata": {},
   "outputs": [
    {
     "data": {
      "text/plain": [
       "mappingproxy({1: 'A'})"
      ]
     },
     "execution_count": 79,
     "metadata": {},
     "output_type": "execute_result"
    }
   ],
   "source": [
    "d_proxy"
   ]
  },
  {
   "cell_type": "code",
   "execution_count": 80,
   "metadata": {},
   "outputs": [
    {
     "data": {
      "text/plain": [
       "'A'"
      ]
     },
     "execution_count": 80,
     "metadata": {},
     "output_type": "execute_result"
    }
   ],
   "source": [
    "d_proxy[1]"
   ]
  },
  {
   "cell_type": "code",
   "execution_count": 81,
   "metadata": {},
   "outputs": [
    {
     "ename": "TypeError",
     "evalue": "'mappingproxy' object does not support item assignment",
     "output_type": "error",
     "traceback": [
      "\u001b[0;31m---------------------------------------------------------------------------\u001b[0m",
      "\u001b[0;31mTypeError\u001b[0m                                 Traceback (most recent call last)",
      "\u001b[1;32m/Users/macbookair/Desktop/编程/python_fluent/part I-Data Structure/Chapter III/build_dict.ipynb Cell 52\u001b[0m in \u001b[0;36m<cell line: 1>\u001b[0;34m()\u001b[0m\n\u001b[0;32m----> <a href='vscode-notebook-cell:/Users/macbookair/Desktop/%E7%BC%96%E7%A8%8B/python_fluent/part%20I-Data%20Structure/Chapter%20III/build_dict.ipynb#Y106sZmlsZQ%3D%3D?line=0'>1</a>\u001b[0m d_proxy[\u001b[39m2\u001b[39m] \u001b[39m=\u001b[39m \u001b[39m'\u001b[39m\u001b[39mx\u001b[39m\u001b[39m'\u001b[39m\n",
      "\u001b[0;31mTypeError\u001b[0m: 'mappingproxy' object does not support item assignment"
     ]
    }
   ],
   "source": [
    "d_proxy[2] = 'x'"
   ]
  },
  {
   "cell_type": "code",
   "execution_count": 82,
   "metadata": {},
   "outputs": [
    {
     "data": {
      "text/plain": [
       "mappingproxy({1: 'A', 2: 'B'})"
      ]
     },
     "execution_count": 82,
     "metadata": {},
     "output_type": "execute_result"
    }
   ],
   "source": [
    "d[2] = 'B'\n",
    "d_proxy"
   ]
  },
  {
   "cell_type": "code",
   "execution_count": 83,
   "metadata": {},
   "outputs": [
    {
     "data": {
      "text/plain": [
       "'B'"
      ]
     },
     "execution_count": 83,
     "metadata": {},
     "output_type": "execute_result"
    }
   ],
   "source": [
    "d[2]"
   ]
  },
  {
   "cell_type": "markdown",
   "metadata": {},
   "source": [
    "Items in d can be seen through d_proxy.\n",
    "Changes cannot be made through d_proxy.\n",
    "d_proxy is dynamic: any change in d is reflected."
   ]
  },
  {
   "cell_type": "markdown",
   "metadata": {},
   "source": [
    "Dictionary Views"
   ]
  },
  {
   "cell_type": "code",
   "execution_count": 85,
   "metadata": {},
   "outputs": [
    {
     "data": {
      "text/plain": [
       "dict_values([10, 20, 30])"
      ]
     },
     "execution_count": 85,
     "metadata": {},
     "output_type": "execute_result"
    }
   ],
   "source": [
    "d = dict(a=10, b=20, c=30)\n",
    "values = d.values()\n",
    "values"
   ]
  },
  {
   "cell_type": "markdown",
   "metadata": {},
   "source": [
    "Practical Consequences of How dict Works"
   ]
  },
  {
   "cell_type": "markdown",
   "metadata": {},
   "source": [
    "Set Theory\n",
    "\n",
    "A set is a collection of unique objects. A basic use case is removing duplication:"
   ]
  },
  {
   "cell_type": "code",
   "execution_count": 86,
   "metadata": {},
   "outputs": [
    {
     "data": {
      "text/plain": [
       "{'bacon', 'eggs', 'spam'}"
      ]
     },
     "execution_count": 86,
     "metadata": {},
     "output_type": "execute_result"
    }
   ],
   "source": [
    "l = ['spam', 'spam', 'eggs', 'spam', 'bacon', 'eggs']\n",
    "\n",
    "set(l)"
   ]
  },
  {
   "cell_type": "code",
   "execution_count": 87,
   "metadata": {},
   "outputs": [
    {
     "data": {
      "text/plain": [
       "['bacon', 'spam', 'eggs']"
      ]
     },
     "execution_count": 87,
     "metadata": {},
     "output_type": "execute_result"
    }
   ],
   "source": [
    "list(set(l))"
   ]
  },
  {
   "cell_type": "code",
   "execution_count": 88,
   "metadata": {},
   "outputs": [
    {
     "data": {
      "text/plain": [
       "dict_keys(['spam', 'eggs', 'bacon'])"
      ]
     },
     "execution_count": 88,
     "metadata": {},
     "output_type": "execute_result"
    }
   ],
   "source": [
    "##If you want to remove duplicates \n",
    "# but also preserve the order of the first occurrence of each item, \n",
    "# you can now use a plain dict to do it, like this:\n",
    "\n",
    "dict.fromkeys(l).keys()"
   ]
  },
  {
   "cell_type": "code",
   "execution_count": 89,
   "metadata": {},
   "outputs": [
    {
     "data": {
      "text/plain": [
       "['spam', 'eggs', 'bacon']"
      ]
     },
     "execution_count": 89,
     "metadata": {},
     "output_type": "execute_result"
    }
   ],
   "source": [
    "list(dict.fromkeys(l).keys())"
   ]
  },
  {
   "cell_type": "code",
   "execution_count": 90,
   "metadata": {},
   "outputs": [],
   "source": [
    "a = set(['a','b','c','c'])\n",
    "b = set(['c','d','e'])"
   ]
  },
  {
   "cell_type": "code",
   "execution_count": 91,
   "metadata": {},
   "outputs": [
    {
     "data": {
      "text/plain": [
       "{'a', 'b', 'c', 'd', 'e'}"
      ]
     },
     "execution_count": 91,
     "metadata": {},
     "output_type": "execute_result"
    }
   ],
   "source": [
    "a | b"
   ]
  },
  {
   "cell_type": "code",
   "execution_count": 92,
   "metadata": {},
   "outputs": [
    {
     "data": {
      "text/plain": [
       "{'c'}"
      ]
     },
     "execution_count": 92,
     "metadata": {},
     "output_type": "execute_result"
    }
   ],
   "source": [
    "a & b"
   ]
  },
  {
   "cell_type": "code",
   "execution_count": 96,
   "metadata": {},
   "outputs": [
    {
     "data": {
      "text/plain": [
       "1"
      ]
     },
     "execution_count": 96,
     "metadata": {},
     "output_type": "execute_result"
    }
   ],
   "source": [
    "s={1}\n",
    "type(s)\n",
    "s\n",
    "s.pop()"
   ]
  }
 ],
 "metadata": {
  "kernelspec": {
   "display_name": "Python 3.10.4 ('fluent_python')",
   "language": "python",
   "name": "python3"
  },
  "language_info": {
   "codemirror_mode": {
    "name": "ipython",
    "version": 3
   },
   "file_extension": ".py",
   "mimetype": "text/x-python",
   "name": "python",
   "nbconvert_exporter": "python",
   "pygments_lexer": "ipython3",
   "version": "3.10.4 (main, Mar 31 2022, 03:38:35) [Clang 12.0.0 ]"
  },
  "orig_nbformat": 4,
  "vscode": {
   "interpreter": {
    "hash": "5b1b1f33800668773057fda0c7ea16549eeda7762de905e4ef1c8737b46900d8"
   }
  }
 },
 "nbformat": 4,
 "nbformat_minor": 2
}
