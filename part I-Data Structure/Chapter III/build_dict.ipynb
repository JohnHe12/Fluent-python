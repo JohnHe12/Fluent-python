{
 "cells": [
  {
   "cell_type": "code",
   "execution_count": 1,
   "metadata": {},
   "outputs": [],
   "source": [
    "####################   dict Comprehensions   ###################\n",
    "\n",
    "### Examples of dict comprehensions\n",
    "dial_codes = [\n",
    " (880, 'Bangladesh'),\n",
    " (55, 'Brazil'),\n",
    " (86, 'China'),\n",
    " (91, 'India'),\n",
    " (62, 'Indonesia'),\n",
    " (81, 'Japan'),\n",
    " (234, 'Nigeria'),\n",
    " (92, 'Pakistan'), \n",
    " (7, 'Russia'),\n",
    " (1, 'United States'), \n",
    " ]\n",
    "\n",
    "contry_dial = {contry : code for code, contry in dial_codes}"
   ]
  },
  {
   "cell_type": "code",
   "execution_count": 2,
   "metadata": {},
   "outputs": [
    {
     "data": {
      "text/plain": [
       "{55: 'BRAZIL', 62: 'INDONESIA', 7: 'RUSSIA', 1: 'UNITED STATES'}"
      ]
     },
     "execution_count": 2,
     "metadata": {},
     "output_type": "execute_result"
    }
   ],
   "source": [
    "{code : contry.upper() \n",
    "\n",
    "    for contry , code in sorted(contry_dial.items()) if code <70}"
   ]
  },
  {
   "cell_type": "code",
   "execution_count": 4,
   "metadata": {},
   "outputs": [
    {
     "data": {
      "text/plain": [
       "dict_items([('Bangladesh', 880), ('Brazil', 55), ('China', 86), ('India', 91), ('Indonesia', 62), ('Japan', 81), ('Nigeria', 234), ('Pakistan', 92), ('Russia', 7), ('United States', 1)])"
      ]
     },
     "execution_count": 4,
     "metadata": {},
     "output_type": "execute_result"
    }
   ],
   "source": [
    "contry_dial.items()"
   ]
  },
  {
   "cell_type": "markdown",
   "metadata": {},
   "source": [
    "################### Unpacking Mappings ###################\n",
    "\n",
    "enhanced the support of mapping unpackings in two ways, since Python 3.5.\n",
    "\n",
    "First, we can apply ** to more than one argument in a function call. \n",
    "\n",
    "This works when keys are all strings and unique across all arguments \n",
    "\n",
    "(because duplicate keyword arguments are forbidden):"
   ]
  },
  {
   "cell_type": "code",
   "execution_count": 5,
   "metadata": {},
   "outputs": [
    {
     "data": {
      "text/plain": [
       "{'x': 1, 'y': 2, 'z': 3}"
      ]
     },
     "execution_count": 5,
     "metadata": {},
     "output_type": "execute_result"
    }
   ],
   "source": [
    "def dump(**kwargs):\n",
    "    return kwargs\n",
    "\n",
    "dump(**{'x': 1}, y=2, **{'z': 3})"
   ]
  },
  {
   "cell_type": "markdown",
   "metadata": {},
   "source": [
    "Second, ** can be used inside a dict literal—also multiple times:\n",
    "\n",
    "In this case, duplicate keys are allowed. \n",
    "\n",
    "Later occurrences overwrite previous ones— see the value mapped to x in the example."
   ]
  },
  {
   "cell_type": "code",
   "execution_count": 6,
   "metadata": {},
   "outputs": [
    {
     "data": {
      "text/plain": [
       "{'a': 0, 'x': 4, 'y': 2, 'z': 3}"
      ]
     },
     "execution_count": 6,
     "metadata": {},
     "output_type": "execute_result"
    }
   ],
   "source": [
    "{'a': 0, **{'x': 1}, 'y': 2, **{'z': 3, 'x': 4}}"
   ]
  },
  {
   "cell_type": "markdown",
   "metadata": {},
   "source": [
    "Python 3.9 supports using | and |= to merge mappings.\n",
    "\n",
    "The | operator creates a new mapping:"
   ]
  },
  {
   "cell_type": "code",
   "execution_count": 8,
   "metadata": {},
   "outputs": [
    {
     "data": {
      "text/plain": [
       "{'a': 3, 'b': 4, 'c': 6}"
      ]
     },
     "execution_count": 8,
     "metadata": {},
     "output_type": "execute_result"
    }
   ],
   "source": [
    "d1 = {'a': 1, 'b': 3}\n",
    "d2 = {'a': 3, 'b': 4, 'c': 6}\n",
    "d1|d2\n",
    "\n",
    "\n",
    "### Usually the type of the new mapping will be the same as the type of the left operand \n",
    "# —d1 in the example—\n",
    "# but it can be the type of the second operand if user-defined types are involved,"
   ]
  },
  {
   "cell_type": "markdown",
   "metadata": {},
   "source": [
    "To update an existing mapping in place, use |=. \n",
    "\n",
    "Continuing from the previous exam‐ ple, d1 was not changed,"
   ]
  },
  {
   "cell_type": "code",
   "execution_count": 9,
   "metadata": {},
   "outputs": [
    {
     "name": "stdout",
     "output_type": "stream",
     "text": [
      "{'a': 1, 'b': 3}\n",
      "{'a': 3, 'b': 4, 'c': 6}\n"
     ]
    }
   ],
   "source": [
    "print(d1)\n",
    "d1 |= d2\n",
    "print(d1)\n",
    "\n",
    "### d1 has been updated, but it's for python 3.9 or newer"
   ]
  },
  {
   "cell_type": "markdown",
   "metadata": {},
   "source": [
    "####################    Pattern Matching with Mappings    ###################"
   ]
  },
  {
   "cell_type": "code",
   "execution_count": null,
   "metadata": {},
   "outputs": [],
   "source": []
  },
  {
   "cell_type": "markdown",
   "metadata": {},
   "source": []
  },
  {
   "cell_type": "code",
   "execution_count": null,
   "metadata": {},
   "outputs": [],
   "source": []
  }
 ],
 "metadata": {
  "kernelspec": {
   "display_name": "Python 3.10.4 ('fluent_python')",
   "language": "python",
   "name": "python3"
  },
  "language_info": {
   "codemirror_mode": {
    "name": "ipython",
    "version": 3
   },
   "file_extension": ".py",
   "mimetype": "text/x-python",
   "name": "python",
   "nbconvert_exporter": "python",
   "pygments_lexer": "ipython3",
   "version": "3.10.4"
  },
  "orig_nbformat": 4,
  "vscode": {
   "interpreter": {
    "hash": "5b1b1f33800668773057fda0c7ea16549eeda7762de905e4ef1c8737b46900d8"
   }
  }
 },
 "nbformat": 4,
 "nbformat_minor": 2
}
